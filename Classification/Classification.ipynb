{
 "cells": [
  {
   "cell_type": "code",
   "execution_count": 1,
   "metadata": {},
   "outputs": [],
   "source": [
    "from __future__ import absolute_import, division, print_function, unicode_literals\n",
    "\n",
    "import tensorflow as tf\n",
    "import pandas as pd"
   ]
  },
  {
   "cell_type": "code",
   "execution_count": 2,
   "metadata": {},
   "outputs": [],
   "source": [
    "CSV_COLUMN_NAMES = ['SepalLength', 'SepalWidth', 'PetalLength', 'PetalWidth', 'Species']\n",
    "SPECIES = ['Setosa', 'Versicolor', 'Virginica']\n",
    "# Lets define some constants to help us later on"
   ]
  },
  {
   "cell_type": "code",
   "execution_count": 3,
   "metadata": {},
   "outputs": [],
   "source": [
    "train_path = tf.keras.utils.get_file(\n",
    "    \"iris_training.csv\", \"https://storage.googleapis.com/download.tensorflow.org/data/iris_training.csv\")\n",
    "test_path = tf.keras.utils.get_file(\n",
    "    \"iris_test.csv\", \"https://storage.googleapis.com/download.tensorflow.org/data/iris_test.csv\")\n",
    "\n",
    "train = pd.read_csv(train_path, names=CSV_COLUMN_NAMES, header=0)\n",
    "test = pd.read_csv(test_path, names=CSV_COLUMN_NAMES, header=0)\n",
    "# Here we use keras (a module inside of TensorFlow) to grab our datasets and read them into a pandas dataframe"
   ]
  },
  {
   "cell_type": "code",
   "execution_count": 4,
   "metadata": {},
   "outputs": [
    {
     "data": {
      "text/html": [
       "<div>\n",
       "<style scoped>\n",
       "    .dataframe tbody tr th:only-of-type {\n",
       "        vertical-align: middle;\n",
       "    }\n",
       "\n",
       "    .dataframe tbody tr th {\n",
       "        vertical-align: top;\n",
       "    }\n",
       "\n",
       "    .dataframe thead th {\n",
       "        text-align: right;\n",
       "    }\n",
       "</style>\n",
       "<table border=\"1\" class=\"dataframe\">\n",
       "  <thead>\n",
       "    <tr style=\"text-align: right;\">\n",
       "      <th></th>\n",
       "      <th>SepalLength</th>\n",
       "      <th>SepalWidth</th>\n",
       "      <th>PetalLength</th>\n",
       "      <th>PetalWidth</th>\n",
       "      <th>Species</th>\n",
       "    </tr>\n",
       "  </thead>\n",
       "  <tbody>\n",
       "    <tr>\n",
       "      <th>0</th>\n",
       "      <td>6.4</td>\n",
       "      <td>2.8</td>\n",
       "      <td>5.6</td>\n",
       "      <td>2.2</td>\n",
       "      <td>2</td>\n",
       "    </tr>\n",
       "    <tr>\n",
       "      <th>1</th>\n",
       "      <td>5.0</td>\n",
       "      <td>2.3</td>\n",
       "      <td>3.3</td>\n",
       "      <td>1.0</td>\n",
       "      <td>1</td>\n",
       "    </tr>\n",
       "    <tr>\n",
       "      <th>2</th>\n",
       "      <td>4.9</td>\n",
       "      <td>2.5</td>\n",
       "      <td>4.5</td>\n",
       "      <td>1.7</td>\n",
       "      <td>2</td>\n",
       "    </tr>\n",
       "    <tr>\n",
       "      <th>3</th>\n",
       "      <td>4.9</td>\n",
       "      <td>3.1</td>\n",
       "      <td>1.5</td>\n",
       "      <td>0.1</td>\n",
       "      <td>0</td>\n",
       "    </tr>\n",
       "    <tr>\n",
       "      <th>4</th>\n",
       "      <td>5.7</td>\n",
       "      <td>3.8</td>\n",
       "      <td>1.7</td>\n",
       "      <td>0.3</td>\n",
       "      <td>0</td>\n",
       "    </tr>\n",
       "  </tbody>\n",
       "</table>\n",
       "</div>"
      ],
      "text/plain": [
       "   SepalLength  SepalWidth  PetalLength  PetalWidth  Species\n",
       "0          6.4         2.8          5.6         2.2        2\n",
       "1          5.0         2.3          3.3         1.0        1\n",
       "2          4.9         2.5          4.5         1.7        2\n",
       "3          4.9         3.1          1.5         0.1        0\n",
       "4          5.7         3.8          1.7         0.3        0"
      ]
     },
     "execution_count": 4,
     "metadata": {},
     "output_type": "execute_result"
    }
   ],
   "source": [
    "train.head()"
   ]
  },
  {
   "cell_type": "code",
   "execution_count": 5,
   "metadata": {},
   "outputs": [
    {
     "data": {
      "text/html": [
       "<div>\n",
       "<style scoped>\n",
       "    .dataframe tbody tr th:only-of-type {\n",
       "        vertical-align: middle;\n",
       "    }\n",
       "\n",
       "    .dataframe tbody tr th {\n",
       "        vertical-align: top;\n",
       "    }\n",
       "\n",
       "    .dataframe thead th {\n",
       "        text-align: right;\n",
       "    }\n",
       "</style>\n",
       "<table border=\"1\" class=\"dataframe\">\n",
       "  <thead>\n",
       "    <tr style=\"text-align: right;\">\n",
       "      <th></th>\n",
       "      <th>SepalLength</th>\n",
       "      <th>SepalWidth</th>\n",
       "      <th>PetalLength</th>\n",
       "      <th>PetalWidth</th>\n",
       "    </tr>\n",
       "  </thead>\n",
       "  <tbody>\n",
       "    <tr>\n",
       "      <th>0</th>\n",
       "      <td>6.4</td>\n",
       "      <td>2.8</td>\n",
       "      <td>5.6</td>\n",
       "      <td>2.2</td>\n",
       "    </tr>\n",
       "    <tr>\n",
       "      <th>1</th>\n",
       "      <td>5.0</td>\n",
       "      <td>2.3</td>\n",
       "      <td>3.3</td>\n",
       "      <td>1.0</td>\n",
       "    </tr>\n",
       "    <tr>\n",
       "      <th>2</th>\n",
       "      <td>4.9</td>\n",
       "      <td>2.5</td>\n",
       "      <td>4.5</td>\n",
       "      <td>1.7</td>\n",
       "    </tr>\n",
       "    <tr>\n",
       "      <th>3</th>\n",
       "      <td>4.9</td>\n",
       "      <td>3.1</td>\n",
       "      <td>1.5</td>\n",
       "      <td>0.1</td>\n",
       "    </tr>\n",
       "    <tr>\n",
       "      <th>4</th>\n",
       "      <td>5.7</td>\n",
       "      <td>3.8</td>\n",
       "      <td>1.7</td>\n",
       "      <td>0.3</td>\n",
       "    </tr>\n",
       "  </tbody>\n",
       "</table>\n",
       "</div>"
      ],
      "text/plain": [
       "   SepalLength  SepalWidth  PetalLength  PetalWidth\n",
       "0          6.4         2.8          5.6         2.2\n",
       "1          5.0         2.3          3.3         1.0\n",
       "2          4.9         2.5          4.5         1.7\n",
       "3          4.9         3.1          1.5         0.1\n",
       "4          5.7         3.8          1.7         0.3"
      ]
     },
     "execution_count": 5,
     "metadata": {},
     "output_type": "execute_result"
    }
   ],
   "source": [
    "train_y = train.pop('Species')\n",
    "test_y = test.pop('Species')\n",
    "train.head() # the species column is now gone"
   ]
  },
  {
   "cell_type": "code",
   "execution_count": 6,
   "metadata": {},
   "outputs": [
    {
     "data": {
      "text/plain": [
       "(120, 4)"
      ]
     },
     "execution_count": 6,
     "metadata": {},
     "output_type": "execute_result"
    }
   ],
   "source": [
    "train.shape  # we have 120 entires with 4 features"
   ]
  },
  {
   "cell_type": "code",
   "execution_count": 7,
   "metadata": {},
   "outputs": [],
   "source": [
    "def input_fn(features, labels, training=True, batch_size=256):\n",
    "    # Convert the inputs to a Dataset.\n",
    "    dataset = tf.data.Dataset.from_tensor_slices((dict(features), labels))\n",
    "\n",
    "    # Shuffle and repeat if you are in training mode.\n",
    "    if training:\n",
    "        dataset = dataset.shuffle(1000).repeat()\n",
    "    \n",
    "    return dataset.batch(batch_size)\n"
   ]
  },
  {
   "cell_type": "code",
   "execution_count": 8,
   "metadata": {},
   "outputs": [
    {
     "name": "stdout",
     "output_type": "stream",
     "text": [
      "[NumericColumn(key='SepalLength', shape=(1,), default_value=None, dtype=tf.float32, normalizer_fn=None), NumericColumn(key='SepalWidth', shape=(1,), default_value=None, dtype=tf.float32, normalizer_fn=None), NumericColumn(key='PetalLength', shape=(1,), default_value=None, dtype=tf.float32, normalizer_fn=None), NumericColumn(key='PetalWidth', shape=(1,), default_value=None, dtype=tf.float32, normalizer_fn=None)]\n"
     ]
    }
   ],
   "source": [
    "# Feature columns describe how to use the input.\n",
    "my_feature_columns = []\n",
    "for key in train.keys():\n",
    "    my_feature_columns.append(tf.feature_column.numeric_column(key=key))\n",
    "print(my_feature_columns)"
   ]
  },
  {
   "cell_type": "code",
   "execution_count": 9,
   "metadata": {},
   "outputs": [
    {
     "name": "stdout",
     "output_type": "stream",
     "text": [
      "INFO:tensorflow:Using default config.\n",
      "WARNING:tensorflow:Using temporary folder as model directory: /tmp/tmph7a63wkf\n",
      "INFO:tensorflow:Using config: {'_model_dir': '/tmp/tmph7a63wkf', '_tf_random_seed': None, '_save_summary_steps': 100, '_save_checkpoints_steps': None, '_save_checkpoints_secs': 600, '_session_config': allow_soft_placement: true\n",
      "graph_options {\n",
      "  rewrite_options {\n",
      "    meta_optimizer_iterations: ONE\n",
      "  }\n",
      "}\n",
      ", '_keep_checkpoint_max': 5, '_keep_checkpoint_every_n_hours': 10000, '_log_step_count_steps': 100, '_train_distribute': None, '_device_fn': None, '_protocol': None, '_eval_distribute': None, '_experimental_distribute': None, '_experimental_max_worker_delay_secs': None, '_session_creation_timeout_secs': 7200, '_service': None, '_cluster_spec': ClusterSpec({}), '_task_type': 'worker', '_task_id': 0, '_global_id_in_cluster': 0, '_master': '', '_evaluation_master': '', '_is_chief': True, '_num_ps_replicas': 0, '_num_worker_replicas': 1}\n"
     ]
    }
   ],
   "source": [
    "# Build a DNN with 2 hidden layers with 30 and 10 hidden nodes each.\n",
    "classifier = tf.estimator.DNNClassifier(\n",
    "    feature_columns=my_feature_columns,\n",
    "    # Two hidden layers of 30 and 10 nodes respectively.\n",
    "    hidden_units=[30, 10],\n",
    "    # The model must choose between 3 classes.\n",
    "    n_classes=3)"
   ]
  },
  {
   "cell_type": "code",
   "execution_count": 10,
   "metadata": {},
   "outputs": [
    {
     "name": "stdout",
     "output_type": "stream",
     "text": [
      "WARNING:tensorflow:From /home/pasan/.local/lib/python3.8/site-packages/tensorflow/python/training/training_util.py:235: Variable.initialized_value (from tensorflow.python.ops.variables) is deprecated and will be removed in a future version.\n",
      "Instructions for updating:\n",
      "Use Variable.read_value. Variables in 2.X are initialized automatically both in eager and graph (inside tf.defun) contexts.\n",
      "INFO:tensorflow:Calling model_fn.\n",
      "WARNING:tensorflow:Layer dnn is casting an input tensor from dtype float64 to the layer's dtype of float32, which is new behavior in TensorFlow 2.  The layer has dtype float32 because its dtype defaults to floatx.\n",
      "\n",
      "If you intended to run this layer in float32, you can safely ignore this warning. If in doubt, this warning is likely only an issue if you are porting a TensorFlow 1.X model to TensorFlow 2.\n",
      "\n",
      "To change all layers to have dtype float64 by default, call `tf.keras.backend.set_floatx('float64')`. To change just this layer, pass dtype='float64' to the layer constructor. If you are the author of this layer, you can disable autocasting by passing autocast=False to the base Layer constructor.\n",
      "\n",
      "WARNING:tensorflow:From /home/pasan/.local/lib/python3.8/site-packages/tensorflow/python/keras/optimizer_v2/adagrad.py:82: calling Constant.__init__ (from tensorflow.python.ops.init_ops) with dtype is deprecated and will be removed in a future version.\n",
      "Instructions for updating:\n",
      "Call initializer instance with the dtype argument instead of passing it to the constructor\n",
      "INFO:tensorflow:Done calling model_fn.\n",
      "INFO:tensorflow:Create CheckpointSaverHook.\n",
      "INFO:tensorflow:Graph was finalized.\n",
      "INFO:tensorflow:Running local_init_op.\n",
      "INFO:tensorflow:Done running local_init_op.\n",
      "INFO:tensorflow:Calling checkpoint listeners before saving checkpoint 0...\n",
      "INFO:tensorflow:Saving checkpoints for 0 into /tmp/tmph7a63wkf/model.ckpt.\n",
      "INFO:tensorflow:Calling checkpoint listeners after saving checkpoint 0...\n",
      "INFO:tensorflow:loss = 4.5444756, step = 0\n",
      "INFO:tensorflow:global_step/sec: 470.92\n",
      "INFO:tensorflow:loss = 2.8847208, step = 100 (0.214 sec)\n",
      "INFO:tensorflow:global_step/sec: 437.142\n",
      "INFO:tensorflow:loss = 2.6897855, step = 200 (0.228 sec)\n",
      "INFO:tensorflow:global_step/sec: 607.165\n",
      "INFO:tensorflow:loss = 2.3637624, step = 300 (0.165 sec)\n",
      "INFO:tensorflow:global_step/sec: 628.084\n",
      "INFO:tensorflow:loss = 2.1543999, step = 400 (0.160 sec)\n",
      "INFO:tensorflow:global_step/sec: 647.326\n",
      "INFO:tensorflow:loss = 1.9964963, step = 500 (0.154 sec)\n",
      "INFO:tensorflow:global_step/sec: 623.94\n",
      "INFO:tensorflow:loss = 1.8479495, step = 600 (0.161 sec)\n",
      "INFO:tensorflow:global_step/sec: 615.483\n",
      "INFO:tensorflow:loss = 1.7496266, step = 700 (0.161 sec)\n",
      "INFO:tensorflow:global_step/sec: 620.959\n",
      "INFO:tensorflow:loss = 1.5821826, step = 800 (0.161 sec)\n",
      "INFO:tensorflow:global_step/sec: 607.496\n",
      "INFO:tensorflow:loss = 1.4886081, step = 900 (0.166 sec)\n",
      "INFO:tensorflow:global_step/sec: 610.358\n",
      "INFO:tensorflow:loss = 1.4244459, step = 1000 (0.162 sec)\n",
      "INFO:tensorflow:global_step/sec: 624.889\n",
      "INFO:tensorflow:loss = 1.3391705, step = 1100 (0.160 sec)\n",
      "INFO:tensorflow:global_step/sec: 620.835\n",
      "INFO:tensorflow:loss = 1.2618165, step = 1200 (0.161 sec)\n",
      "INFO:tensorflow:global_step/sec: 603.408\n",
      "INFO:tensorflow:loss = 1.1857696, step = 1300 (0.166 sec)\n",
      "INFO:tensorflow:global_step/sec: 617.085\n",
      "INFO:tensorflow:loss = 1.1137087, step = 1400 (0.162 sec)\n",
      "INFO:tensorflow:global_step/sec: 628.519\n",
      "INFO:tensorflow:loss = 1.0493479, step = 1500 (0.159 sec)\n",
      "INFO:tensorflow:global_step/sec: 402.3\n",
      "INFO:tensorflow:loss = 1.0166955, step = 1600 (0.250 sec)\n",
      "INFO:tensorflow:global_step/sec: 633.99\n",
      "INFO:tensorflow:loss = 0.95575464, step = 1700 (0.157 sec)\n",
      "INFO:tensorflow:global_step/sec: 509.712\n",
      "INFO:tensorflow:loss = 0.92343014, step = 1800 (0.201 sec)\n",
      "INFO:tensorflow:global_step/sec: 418.441\n",
      "INFO:tensorflow:loss = 0.9101062, step = 1900 (0.238 sec)\n",
      "INFO:tensorflow:global_step/sec: 546.162\n",
      "INFO:tensorflow:loss = 0.87469137, step = 2000 (0.180 sec)\n",
      "INFO:tensorflow:global_step/sec: 429.946\n",
      "INFO:tensorflow:loss = 0.85467666, step = 2100 (0.234 sec)\n",
      "INFO:tensorflow:global_step/sec: 582.042\n",
      "INFO:tensorflow:loss = 0.83810997, step = 2200 (0.171 sec)\n",
      "INFO:tensorflow:global_step/sec: 423.903\n",
      "INFO:tensorflow:loss = 0.82574654, step = 2300 (0.236 sec)\n",
      "INFO:tensorflow:global_step/sec: 574.636\n",
      "INFO:tensorflow:loss = 0.80405796, step = 2400 (0.173 sec)\n",
      "INFO:tensorflow:global_step/sec: 589.066\n",
      "INFO:tensorflow:loss = 0.78369164, step = 2500 (0.170 sec)\n",
      "INFO:tensorflow:global_step/sec: 525.282\n",
      "INFO:tensorflow:loss = 0.7852204, step = 2600 (0.190 sec)\n",
      "INFO:tensorflow:global_step/sec: 527.447\n",
      "INFO:tensorflow:loss = 0.771235, step = 2700 (0.191 sec)\n",
      "INFO:tensorflow:global_step/sec: 588.569\n",
      "INFO:tensorflow:loss = 0.7505994, step = 2800 (0.170 sec)\n",
      "INFO:tensorflow:global_step/sec: 435.353\n",
      "INFO:tensorflow:loss = 0.7420784, step = 2900 (0.233 sec)\n",
      "INFO:tensorflow:global_step/sec: 509.3\n",
      "INFO:tensorflow:loss = 0.73331594, step = 3000 (0.193 sec)\n",
      "INFO:tensorflow:global_step/sec: 612.011\n",
      "INFO:tensorflow:loss = 0.7340804, step = 3100 (0.163 sec)\n",
      "INFO:tensorflow:global_step/sec: 605.71\n",
      "INFO:tensorflow:loss = 0.7175511, step = 3200 (0.164 sec)\n",
      "INFO:tensorflow:global_step/sec: 614.38\n",
      "INFO:tensorflow:loss = 0.6997639, step = 3300 (0.164 sec)\n",
      "INFO:tensorflow:global_step/sec: 619.676\n",
      "INFO:tensorflow:loss = 0.6799052, step = 3400 (0.161 sec)\n",
      "INFO:tensorflow:global_step/sec: 622.212\n",
      "INFO:tensorflow:loss = 0.6693442, step = 3500 (0.162 sec)\n",
      "INFO:tensorflow:global_step/sec: 613.521\n",
      "INFO:tensorflow:loss = 0.67440116, step = 3600 (0.162 sec)\n",
      "INFO:tensorflow:global_step/sec: 615.053\n",
      "INFO:tensorflow:loss = 0.6693948, step = 3700 (0.162 sec)\n",
      "INFO:tensorflow:global_step/sec: 622.276\n",
      "INFO:tensorflow:loss = 0.6683074, step = 3800 (0.162 sec)\n",
      "INFO:tensorflow:global_step/sec: 618.258\n",
      "INFO:tensorflow:loss = 0.64494264, step = 3900 (0.161 sec)\n",
      "INFO:tensorflow:global_step/sec: 635.063\n",
      "INFO:tensorflow:loss = 0.6457124, step = 4000 (0.157 sec)\n",
      "INFO:tensorflow:global_step/sec: 617.026\n",
      "INFO:tensorflow:loss = 0.63620317, step = 4100 (0.162 sec)\n",
      "INFO:tensorflow:global_step/sec: 646.985\n",
      "INFO:tensorflow:loss = 0.63580596, step = 4200 (0.155 sec)\n",
      "INFO:tensorflow:global_step/sec: 579.762\n",
      "INFO:tensorflow:loss = 0.6437466, step = 4300 (0.174 sec)\n",
      "INFO:tensorflow:global_step/sec: 423.462\n",
      "INFO:tensorflow:loss = 0.6102781, step = 4400 (0.234 sec)\n",
      "INFO:tensorflow:global_step/sec: 663.679\n",
      "INFO:tensorflow:loss = 0.6091186, step = 4500 (0.151 sec)\n",
      "INFO:tensorflow:global_step/sec: 645.874\n",
      "INFO:tensorflow:loss = 0.599301, step = 4600 (0.155 sec)\n",
      "INFO:tensorflow:global_step/sec: 439.21\n",
      "INFO:tensorflow:loss = 0.5900956, step = 4700 (0.228 sec)\n",
      "INFO:tensorflow:global_step/sec: 599.261\n",
      "INFO:tensorflow:loss = 0.59111136, step = 4800 (0.166 sec)\n",
      "INFO:tensorflow:global_step/sec: 404.626\n",
      "INFO:tensorflow:loss = 0.5796107, step = 4900 (0.248 sec)\n",
      "INFO:tensorflow:Calling checkpoint listeners before saving checkpoint 5000...\n",
      "INFO:tensorflow:Saving checkpoints for 5000 into /tmp/tmph7a63wkf/model.ckpt.\n",
      "INFO:tensorflow:Calling checkpoint listeners after saving checkpoint 5000...\n",
      "INFO:tensorflow:Loss for final step: 0.58472604.\n"
     ]
    },
    {
     "data": {
      "text/plain": [
       "<tensorflow_estimator.python.estimator.canned.dnn.DNNClassifierV2 at 0x7fc14489bf10>"
      ]
     },
     "execution_count": 10,
     "metadata": {},
     "output_type": "execute_result"
    }
   ],
   "source": [
    "classifier.train(input_fn=lambda: input_fn(train, train_y, training=True),steps=5000)"
   ]
  },
  {
   "cell_type": "code",
   "execution_count": 11,
   "metadata": {},
   "outputs": [
    {
     "name": "stdout",
     "output_type": "stream",
     "text": [
      "INFO:tensorflow:Calling model_fn.\n",
      "WARNING:tensorflow:Layer dnn is casting an input tensor from dtype float64 to the layer's dtype of float32, which is new behavior in TensorFlow 2.  The layer has dtype float32 because its dtype defaults to floatx.\n",
      "\n",
      "If you intended to run this layer in float32, you can safely ignore this warning. If in doubt, this warning is likely only an issue if you are porting a TensorFlow 1.X model to TensorFlow 2.\n",
      "\n",
      "To change all layers to have dtype float64 by default, call `tf.keras.backend.set_floatx('float64')`. To change just this layer, pass dtype='float64' to the layer constructor. If you are the author of this layer, you can disable autocasting by passing autocast=False to the base Layer constructor.\n",
      "\n",
      "INFO:tensorflow:Done calling model_fn.\n",
      "INFO:tensorflow:Starting evaluation at 2020-12-05T23:33:47Z\n",
      "INFO:tensorflow:Graph was finalized.\n",
      "INFO:tensorflow:Restoring parameters from /tmp/tmph7a63wkf/model.ckpt-5000\n",
      "INFO:tensorflow:Running local_init_op.\n",
      "INFO:tensorflow:Done running local_init_op.\n",
      "INFO:tensorflow:Inference Time : 0.24317s\n",
      "INFO:tensorflow:Finished evaluation at 2020-12-05-23:33:47\n",
      "INFO:tensorflow:Saving dict for global step 5000: accuracy = 0.53333336, average_loss = 0.6678766, global_step = 5000, loss = 0.6678766\n",
      "INFO:tensorflow:Saving 'checkpoint_path' summary for global step 5000: /tmp/tmph7a63wkf/model.ckpt-5000\n",
      "\n",
      "Test set accuracy: 0.533\n",
      "\n"
     ]
    }
   ],
   "source": [
    "eval_result = classifier.evaluate(input_fn=lambda: input_fn(test, test_y, training=False))\n",
    "\n",
    "print('\\nTest set accuracy: {accuracy:0.3f}\\n'.format(**eval_result))"
   ]
  },
  {
   "cell_type": "code",
   "execution_count": 12,
   "metadata": {},
   "outputs": [
    {
     "name": "stdout",
     "output_type": "stream",
     "text": [
      "Please type numeric values as prompted.\n",
      "SepalLength: 2.4\n",
      "SepalWidth: 2.6\n",
      "PetalLength: 6.5\n",
      "PetalWidth: 6.3\n",
      "INFO:tensorflow:Calling model_fn.\n",
      "INFO:tensorflow:Done calling model_fn.\n",
      "INFO:tensorflow:Graph was finalized.\n",
      "INFO:tensorflow:Restoring parameters from /tmp/tmph7a63wkf/model.ckpt-5000\n",
      "INFO:tensorflow:Running local_init_op.\n",
      "INFO:tensorflow:Done running local_init_op.\n",
      "Prediction is \"Virginica\" (95.9%)\n"
     ]
    }
   ],
   "source": [
    "def input_fn(features, batch_size=256):\n",
    "    # Convert the inputs to a Dataset without labels.\n",
    "    return tf.data.Dataset.from_tensor_slices(dict(features)).batch(batch_size)\n",
    "\n",
    "features = ['SepalLength', 'SepalWidth', 'PetalLength', 'PetalWidth']\n",
    "predict = {}\n",
    "\n",
    "print(\"Please type numeric values as prompted.\")\n",
    "for feature in features:\n",
    "  valid = True\n",
    "  while valid: \n",
    "    val = input(feature + \": \")\n",
    "    if not val.isdigit(): valid = False\n",
    "\n",
    "  predict[feature] = [float(val)]\n",
    "\n",
    "predictions = classifier.predict(input_fn=lambda: input_fn(predict))\n",
    "for pred_dict in predictions:\n",
    "    class_id = pred_dict['class_ids'][0]\n",
    "    probability = pred_dict['probabilities'][class_id]\n",
    "\n",
    "    print('Prediction is \"{}\" ({:.1f}%)'.format(\n",
    "        SPECIES[class_id], 100 * probability))"
   ]
  },
  {
   "cell_type": "code",
   "execution_count": 14,
   "metadata": {},
   "outputs": [],
   "source": [
    "# Here is some example input and expected classes you can try above\n",
    "expected = ['Setosa', 'Versicolor', 'Virginica']\n",
    "predict_x = {\n",
    "    'SepalLength': [5.1, 5.9, 6.9],\n",
    "    'SepalWidth': [3.3, 3.0, 3.1],\n",
    "    'PetalLength': [1.7, 4.2, 5.4],\n",
    "    'PetalWidth': [0.5, 1.5, 2.1],\n",
    "}"
   ]
  }
 ],
 "metadata": {
  "kernelspec": {
   "display_name": "Python 3",
   "language": "python",
   "name": "python3"
  },
  "language_info": {
   "codemirror_mode": {
    "name": "ipython",
    "version": 3
   },
   "file_extension": ".py",
   "mimetype": "text/x-python",
   "name": "python",
   "nbconvert_exporter": "python",
   "pygments_lexer": "ipython3",
   "version": "3.8.5"
  }
 },
 "nbformat": 4,
 "nbformat_minor": 4
}
